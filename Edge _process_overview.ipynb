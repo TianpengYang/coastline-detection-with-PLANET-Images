{
  "cells": [
    {
      "cell_type": "code",
      "execution_count": null,
      "metadata": {
        "collapsed": true,
        "pycharm": {}
      },
      "outputs": [],
      "source": ""
    },
    {
      "cell_type": "markdown",
      "source": "# Edge Detection on Plant Imagery for North Alaskan Coast\nThis project is designed to create a method of detecting coastline\nin a set of given satellite imagery from planet labs. Specifically\nfor the following code the coastlines that are being detected are \nlocated in northern Alaska. With the goal for this project being\nthe accurate coastline detection of over 1000 km of northern Alaskan\ncoastline to measure coastal erosion.\n\nTo do this the following edge detection and threshold methods have\nbeen used: Canny edge detection, Sobel Edge Detection, \nNormalized Difference Water Index (NDWI), Holistically-Nested\nEdge Detection, and ISODATA clustering. Each of these methods have\ntheir strong and weak points when it comes to clustering. I will go\nover a outline of how each method work, show the method results on \ntwo sample images from the north Alaskan coast, and describe why\nthe method was either chosen for further use in the project or \ndropped.",
      "metadata": {
        "pycharm": {
          "metadata": false
        }
      }
    },
    {
      "cell_type": "markdown",
      "source": "# Canny Edge Detection\nCanny edge detection is a multi-stage process used to detect edge on\na wide array of images.\n\nStep 1:\nWe first have to import opencv \nthen load in the image as grayscale ",
      "metadata": {
        "pycharm": {
          "metadata": false
        }
      }
    },
    {
      "cell_type": "code",
      "execution_count": null,
      "outputs": [],
      "source": "import cv2\nimage \u003d \"/home/nelson/PycharmProjects/coastline_detection_with_LANDSAT/good_images/output2.jpg\"\nimage \u003d cv2.imread(image)\nimage \u003d cv2.cvtColor(image, cv2.COLOR_BGR2GRAY)  # cv2.COLOR_BGR2GRAY one of opencv many color change options",
      "metadata": {
        "pycharm": {
          "metadata": false,
          "name": "#%%\n"
        }
      }
    },
    {
      "cell_type": "markdown",
      "source": "![](Edge_process_overview images/Original Grayscale.png \"Original Grayscale\")\nNow we need to apply a blur to the image. I know that applying a blur\nseems counter intuitive but it is useful for removing noise at the \nedge locations of the image. For this example we will be using a \ngaussian blur of size 5x5. This should remove most of the noise in\nour image.",
      "metadata": {
        "pycharm": {
          "metadata": false
        }
      }
    },
    {
      "cell_type": "code",
      "execution_count": null,
      "outputs": [],
      "source": "blur \u003d cv2.GaussianBlur(image, (5, 5), 0)",
      "metadata": {
        "pycharm": {
          "metadata": false,
          "name": "#%%\n"
        }
      }
    },
    {
      "cell_type": "markdown",
      "source": "Now we can apply canny edge detection on the blurred image. Part of \ncanny edge detection is entering in the upper and lower bounds of \nthe pixels in the image. Any pixels with a value higher than the upper\nbound is automatically considered an edge. While any pixels below the\nlower bound threshold are considered to be non-edges and are to be \ndiscarded. Values between the two thresholds are considered to be either\nedges or none edges based on their connectivity to other pixels. \nOne method about thinking of this process is that edges are the \npoints where two gaussian/bell curves meet.",
      "metadata": {
        "pycharm": {
          "metadata": false
        }
      }
    },
    {
      "cell_type": "code",
      "execution_count": null,
      "outputs": [],
      "source": "canny \u003d cv2.Canny(blur, 30, 150)  # these values are just random\n",
      "metadata": {
        "pycharm": {
          "metadata": false,
          "name": "#%%\n"
        }
      }
    }
  ],
  "metadata": {
    "language_info": {
      "codemirror_mode": {
        "name": "ipython",
        "version": 2
      },
      "file_extension": ".py",
      "mimetype": "text/x-python",
      "name": "python",
      "nbconvert_exporter": "python",
      "pygments_lexer": "ipython2",
      "version": "2.7.6"
    },
    "kernelspec": {
      "name": "python3",
      "language": "python",
      "display_name": "Python 3"
    }
  },
  "nbformat": 4,
  "nbformat_minor": 0
}